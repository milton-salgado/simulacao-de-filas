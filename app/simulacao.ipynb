{
 "cells": [
  {
   "cell_type": "markdown",
   "metadata": {},
   "source": [
    "# **Modelagem e Análise de Desempenho - 2024/02**\n",
    "\n",
    "## **Trabalho de Implementação**\n",
    "\n",
    "## **Simulação de uma rede aberta de filas**\n",
    "\n",
    "### **Professor: Vinicius Gusmão**\n",
    "\n",
    "### **Alunos: Milton Salgado Leandro - DRE: 122169279 e Pedro Henrique Honorio Saito - DRE: 122149392**"
   ]
  },
  {
   "cell_type": "code",
   "execution_count": 1,
   "metadata": {},
   "outputs": [
    {
     "name": "stdout",
     "output_type": "stream",
     "text": [
      "Simulação - Situação 1\n",
      "Tempo médio no sistema: 10.824780464465015\n",
      "Desvio padrão do tempo no sistema: 12.021270964780626\n",
      "\n",
      "Simulação - Situação 2\n",
      "Tempo médio no sistema: 6.124780791022225\n",
      "Desvio padrão do tempo no sistema: 5.040661568821134\n",
      "\n",
      "Simulação - Situação 3\n",
      "Tempo médio no sistema: 12.296341487964334\n",
      "Desvio padrão do tempo no sistema: 12.630178993853901\n"
     ]
    }
   ],
   "source": [
    "import random\n",
    "from simulacao import Simulacao\n",
    "\n",
    "\n",
    "# Situação 1: Tempos de serviço determinísticos\n",
    "funcs_tempo_servico_situacao1 = {\n",
    "    'S1': lambda: 0.4,\n",
    "    'S2': lambda: 0.6,\n",
    "    'S3': lambda: 0.95\n",
    "}\n",
    "\n",
    "# Situação 2: Tempos de serviço uniformes\n",
    "funcs_tempo_servico_situacao2 = {\n",
    "    'S1': lambda: random.uniform(0.1, 0.7),\n",
    "    'S2': lambda: random.uniform(0.1, 1.1),\n",
    "    'S3': lambda: random.uniform(0.1, 1.8)\n",
    "}\n",
    "\n",
    "# Situação 3: Tempos de serviço exponenciais\n",
    "funcs_tempo_servico_situacao3 = {\n",
    "    'S1': lambda: random.expovariate(1/0.4),  # Média 0.4s\n",
    "    'S2': lambda: random.expovariate(1/0.6),  # Média 0.6s\n",
    "    'S3': lambda: random.expovariate(1/0.95)  # Média 0.95s\n",
    "}\n",
    "\n",
    "if __name__ == \"__main__\":\n",
    "    # Semente para reprodutibilidade (coisas de random em programação)\n",
    "    random.seed(42)\n",
    "    \n",
    "    # Execução das simulações\n",
    "    print(\"Simulação - Situação 1\")\n",
    "    sim1 = Simulacao(funcs_tempo_servico_situacao1)\n",
    "    sim1.executar()\n",
    "    \n",
    "    print(\"\\nSimulação - Situação 2\")\n",
    "    sim2 = Simulacao(funcs_tempo_servico_situacao2)\n",
    "    sim2.executar()\n",
    "    \n",
    "    print(\"\\nSimulação - Situação 3\")\n",
    "    sim3 = Simulacao(funcs_tempo_servico_situacao3)\n",
    "    sim3.executar()\n"
   ]
  }
 ],
 "metadata": {
  "kernelspec": {
   "display_name": ".venv",
   "language": "python",
   "name": "python3"
  },
  "language_info": {
   "codemirror_mode": {
    "name": "ipython",
    "version": 3
   },
   "file_extension": ".py",
   "mimetype": "text/x-python",
   "name": "python",
   "nbconvert_exporter": "python",
   "pygments_lexer": "ipython3",
   "version": "3.12.4"
  }
 },
 "nbformat": 4,
 "nbformat_minor": 2
}
